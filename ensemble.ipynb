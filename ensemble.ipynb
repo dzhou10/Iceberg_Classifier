{
 "cells": [
  {
   "cell_type": "markdown",
   "metadata": {},
   "source": [
    "## Statoil Iceberg Classification\n",
    "\n",
    "### Ensemble learning\n",
    "### Stacking several CNN prediction result for better accuracy"
   ]
  },
  {
   "cell_type": "code",
   "execution_count": 3,
   "metadata": {
    "collapsed": false
   },
   "outputs": [
    {
     "name": "stdout",
     "output_type": "stream",
     "text": [
      "Iceberg_py3_keras.ipynb\n",
      "Iceberg_py3_keras_angle.ipynb\n",
      "README.md\n",
      "ensemble.ipynb\n",
      "sub.csv\n",
      "submission.csv\n",
      "test.json\n",
      "train.json\n",
      "\n"
     ]
    }
   ],
   "source": [
    "import os\n",
    "import numpy as np \n",
    "import pandas as pd \n",
    "from subprocess import check_output\n",
    "print(check_output([\"ls\", \".\"]).decode(\"utf8\"))"
   ]
  },
  {
   "cell_type": "code",
   "execution_count": 12,
   "metadata": {
    "collapsed": false
   },
   "outputs": [
    {
     "data": {
      "text/html": [
       "<div>\n",
       "<style>\n",
       "    .dataframe thead tr:only-child th {\n",
       "        text-align: right;\n",
       "    }\n",
       "\n",
       "    .dataframe thead th {\n",
       "        text-align: left;\n",
       "    }\n",
       "\n",
       "    .dataframe tbody tr th {\n",
       "        vertical-align: top;\n",
       "    }\n",
       "</style>\n",
       "<table border=\"1\" class=\"dataframe\">\n",
       "  <thead>\n",
       "    <tr style=\"text-align: right;\">\n",
       "      <th></th>\n",
       "      <th>id</th>\n",
       "      <th>is_iceberg_0</th>\n",
       "      <th>is_iceberg_1</th>\n",
       "      <th>is_iceberg_2</th>\n",
       "      <th>is_iceberg_3</th>\n",
       "    </tr>\n",
       "  </thead>\n",
       "  <tbody>\n",
       "    <tr>\n",
       "      <th>0</th>\n",
       "      <td>5941774d</td>\n",
       "      <td>0.253535</td>\n",
       "      <td>2.301870e-03</td>\n",
       "      <td>0.036318</td>\n",
       "      <td>0.000943</td>\n",
       "    </tr>\n",
       "    <tr>\n",
       "      <th>1</th>\n",
       "      <td>4023181e</td>\n",
       "      <td>0.473720</td>\n",
       "      <td>9.994224e-01</td>\n",
       "      <td>0.995405</td>\n",
       "      <td>0.946086</td>\n",
       "    </tr>\n",
       "    <tr>\n",
       "      <th>2</th>\n",
       "      <td>b20200e4</td>\n",
       "      <td>0.304394</td>\n",
       "      <td>7.558256e-22</td>\n",
       "      <td>0.004805</td>\n",
       "      <td>0.006515</td>\n",
       "    </tr>\n",
       "    <tr>\n",
       "      <th>3</th>\n",
       "      <td>e7f018bb</td>\n",
       "      <td>0.995573</td>\n",
       "      <td>9.972625e-01</td>\n",
       "      <td>0.997890</td>\n",
       "      <td>0.999929</td>\n",
       "    </tr>\n",
       "    <tr>\n",
       "      <th>4</th>\n",
       "      <td>4371c8c3</td>\n",
       "      <td>0.906367</td>\n",
       "      <td>1.000000e+00</td>\n",
       "      <td>0.994407</td>\n",
       "      <td>0.850582</td>\n",
       "    </tr>\n",
       "  </tbody>\n",
       "</table>\n",
       "</div>"
      ],
      "text/plain": [
       "         id  is_iceberg_0  is_iceberg_1  is_iceberg_2  is_iceberg_3\n",
       "0  5941774d      0.253535  2.301870e-03      0.036318      0.000943\n",
       "1  4023181e      0.473720  9.994224e-01      0.995405      0.946086\n",
       "2  b20200e4      0.304394  7.558256e-22      0.004805      0.006515\n",
       "3  e7f018bb      0.995573  9.972625e-01      0.997890      0.999929\n",
       "4  4371c8c3      0.906367  1.000000e+00      0.994407      0.850582"
      ]
     },
     "execution_count": 12,
     "metadata": {},
     "output_type": "execute_result"
    }
   ],
   "source": [
    "sub_path = \"./submission\"\n",
    "all_files = os.listdir(sub_path)\n",
    "\n",
    "outs = [pd.read_csv(os.path.join(sub_path, f), index_col=0) for f in all_files]\n",
    "concat_sub = pd.concat(outs, axis=1)\n",
    "cols = list(map(lambda x: \"is_iceberg_\" + str(x), range(len(concat_sub.columns))))\n",
    "concat_sub.columns = cols\n",
    "concat_sub.reset_index(inplace=True)\n",
    "concat_sub.head()"
   ]
  },
  {
   "cell_type": "code",
   "execution_count": 13,
   "metadata": {
    "collapsed": false
   },
   "outputs": [
    {
     "data": {
      "text/html": [
       "<div>\n",
       "<style>\n",
       "    .dataframe thead tr:only-child th {\n",
       "        text-align: right;\n",
       "    }\n",
       "\n",
       "    .dataframe thead th {\n",
       "        text-align: left;\n",
       "    }\n",
       "\n",
       "    .dataframe tbody tr th {\n",
       "        vertical-align: top;\n",
       "    }\n",
       "</style>\n",
       "<table border=\"1\" class=\"dataframe\">\n",
       "  <thead>\n",
       "    <tr style=\"text-align: right;\">\n",
       "      <th></th>\n",
       "      <th>is_iceberg_0</th>\n",
       "      <th>is_iceberg_1</th>\n",
       "      <th>is_iceberg_2</th>\n",
       "      <th>is_iceberg_3</th>\n",
       "    </tr>\n",
       "  </thead>\n",
       "  <tbody>\n",
       "    <tr>\n",
       "      <th>is_iceberg_0</th>\n",
       "      <td>1.000000</td>\n",
       "      <td>0.651467</td>\n",
       "      <td>0.583056</td>\n",
       "      <td>0.724461</td>\n",
       "    </tr>\n",
       "    <tr>\n",
       "      <th>is_iceberg_1</th>\n",
       "      <td>0.651467</td>\n",
       "      <td>1.000000</td>\n",
       "      <td>0.702787</td>\n",
       "      <td>0.655352</td>\n",
       "    </tr>\n",
       "    <tr>\n",
       "      <th>is_iceberg_2</th>\n",
       "      <td>0.583056</td>\n",
       "      <td>0.702787</td>\n",
       "      <td>1.000000</td>\n",
       "      <td>0.790478</td>\n",
       "    </tr>\n",
       "    <tr>\n",
       "      <th>is_iceberg_3</th>\n",
       "      <td>0.724461</td>\n",
       "      <td>0.655352</td>\n",
       "      <td>0.790478</td>\n",
       "      <td>1.000000</td>\n",
       "    </tr>\n",
       "  </tbody>\n",
       "</table>\n",
       "</div>"
      ],
      "text/plain": [
       "              is_iceberg_0  is_iceberg_1  is_iceberg_2  is_iceberg_3\n",
       "is_iceberg_0      1.000000      0.651467      0.583056      0.724461\n",
       "is_iceberg_1      0.651467      1.000000      0.702787      0.655352\n",
       "is_iceberg_2      0.583056      0.702787      1.000000      0.790478\n",
       "is_iceberg_3      0.724461      0.655352      0.790478      1.000000"
      ]
     },
     "execution_count": 13,
     "metadata": {},
     "output_type": "execute_result"
    }
   ],
   "source": [
    "concat_sub.corr()"
   ]
  },
  {
   "cell_type": "code",
   "execution_count": 14,
   "metadata": {
    "collapsed": true
   },
   "outputs": [],
   "source": [
    "# get the data fields ready for stacking\n",
    "concat_sub['is_iceberg_max'] = concat_sub.iloc[:, 1:5].max(axis=1)\n",
    "concat_sub['is_iceberg_min'] = concat_sub.iloc[:, 1:5].min(axis=1)\n",
    "concat_sub['is_iceberg_mean'] = concat_sub.iloc[:, 1:5].mean(axis=1)\n",
    "concat_sub['is_iceberg_median'] = concat_sub.iloc[:, 1:5].median(axis=1)"
   ]
  },
  {
   "cell_type": "code",
   "execution_count": 7,
   "metadata": {
    "collapsed": true
   },
   "outputs": [],
   "source": [
    "# set up cutoff threshold for lower and upper bounds, easy to twist \n",
    "cutoff_lo = 0.8\n",
    "cutoff_hi = 0.2"
   ]
  },
  {
   "cell_type": "markdown",
   "metadata": {},
   "source": [
    "### Median Stacking"
   ]
  },
  {
   "cell_type": "code",
   "execution_count": 11,
   "metadata": {
    "collapsed": true
   },
   "outputs": [],
   "source": [
    "concat_sub['is_iceberg'] = concat_sub['is_iceberg_median']\n",
    "concat_sub[['id', 'is_iceberg']].to_csv('stack_median_2.csv', \n",
    "                                        index=False, float_format='%.6f')"
   ]
  },
  {
   "cell_type": "markdown",
   "metadata": {},
   "source": [
    "### MinMax Median Stacking"
   ]
  },
  {
   "cell_type": "code",
   "execution_count": 15,
   "metadata": {
    "collapsed": true
   },
   "outputs": [],
   "source": [
    "concat_sub['is_iceberg'] = np.where(np.all(concat_sub.iloc[:,1:5] > cutoff_lo, axis=1), \n",
    "                                    concat_sub['is_iceberg_max'], \n",
    "                                    np.where(np.all(concat_sub.iloc[:,1:5] < cutoff_hi, axis=1),\n",
    "                                             concat_sub['is_iceberg_min'], \n",
    "                                             concat_sub['is_iceberg_median']))\n",
    "concat_sub[['id', 'is_iceberg']].to_csv('stack_minmax_median.csv', \n",
    "                                        index=False, float_format='%.6f')"
   ]
  },
  {
   "cell_type": "code",
   "execution_count": null,
   "metadata": {
    "collapsed": true
   },
   "outputs": [],
   "source": []
  }
 ],
 "metadata": {
  "kernelspec": {
   "display_name": "Python 3",
   "language": "python",
   "name": "python3"
  },
  "language_info": {
   "codemirror_mode": {
    "name": "ipython",
    "version": 3
   },
   "file_extension": ".py",
   "mimetype": "text/x-python",
   "name": "python",
   "nbconvert_exporter": "python",
   "pygments_lexer": "ipython3",
   "version": "3.6.1"
  }
 },
 "nbformat": 4,
 "nbformat_minor": 2
}
